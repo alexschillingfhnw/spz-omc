{
 "cells": [
  {
   "attachments": {},
   "cell_type": "markdown",
   "metadata": {},
   "source": [
    "# Open Mini-Challenge: Steuerdaten einer Gemeinde im Kanton Solothurn\n",
    "## 1. Fragestellungen\n",
    "\n",
    "1. Erstellt eine Prognose der Steuererträge absolut und pro Person für die nächsten 10 Jahre unter Berücksichtigung allfälliger zyklischer Schwankungen aufgrund der historischen Steuererträge, ggf. in einer geeigneten Partition der Bevölkerung\n",
    "\n",
    "2. Bestimmt, wie stark BIP- und Demographiezahlen als vorlaufende Indikatoren verwendbar sind, wie viele Jahre Vorlauf sie Euch gewähren und\n",
    "\n",
    "3. Berechnet, welches Steuerloch im schlechtesten Fall und welcher Überschuss im besten Fall alle 50 Jahre bei den natürlichen Personen zu erwarten sind"
   ]
  },
  {
   "cell_type": "code",
   "execution_count": null,
   "metadata": {},
   "outputs": [],
   "source": []
  },
  {
   "attachments": {},
   "cell_type": "markdown",
   "metadata": {},
   "source": [
    "## 2. Zeitreihen\n",
    "\n",
    "Woher kommen die entsprechenden Zeitreihen? Wie habt Ihr sie bearbeitet?"
   ]
  },
  {
   "cell_type": "code",
   "execution_count": null,
   "metadata": {},
   "outputs": [],
   "source": []
  },
  {
   "attachments": {},
   "cell_type": "markdown",
   "metadata": {},
   "source": [
    "## 3. Modelle\n",
    "\n",
    "Als welche stochastischen Prozesse modelliert Ihr die Zeitreihen, mit welchen Methoden parametrisiert Ihr sie, und was sind Eure Begründungen?"
   ]
  },
  {
   "cell_type": "code",
   "execution_count": null,
   "metadata": {},
   "outputs": [],
   "source": []
  },
  {
   "attachments": {},
   "cell_type": "markdown",
   "metadata": {},
   "source": [
    "## 4. Vorhersage\n",
    "\n",
    "Welche Annahmen habt Ihr gemacht? Helfen Szenarien? Was sind die Grenzen der Vorhersagbarkeit?"
   ]
  },
  {
   "cell_type": "code",
   "execution_count": null,
   "metadata": {},
   "outputs": [],
   "source": []
  },
  {
   "attachments": {},
   "cell_type": "markdown",
   "metadata": {},
   "source": [
    "## 5. Extremwertanalyse\n",
    "\n",
    "Über welche extremen und/oder seltenen Ereignisse soll eine Aussage gemacht werden?"
   ]
  },
  {
   "cell_type": "code",
   "execution_count": null,
   "metadata": {},
   "outputs": [],
   "source": []
  },
  {
   "attachments": {},
   "cell_type": "markdown",
   "metadata": {},
   "source": [
    "## 6. Fazit\n",
    "\n",
    "Welche Empfehlungen gebt Ihr dem Kunden mit?"
   ]
  },
  {
   "cell_type": "code",
   "execution_count": null,
   "metadata": {},
   "outputs": [],
   "source": []
  },
  {
   "attachments": {},
   "cell_type": "markdown",
   "metadata": {},
   "source": [
    "## 7. Ausblick\n",
    "Ausblick: Sehr zu empfehlen ist ein Ausblick, nicht zuletzt, um Euren Aufwand zu begrenzen.\n"
   ]
  }
 ],
 "metadata": {
  "kernelspec": {
   "display_name": "Python 3",
   "language": "python",
   "name": "python3"
  },
  "language_info": {
   "name": "python",
   "version": "3.11.1 (v3.11.1:a7a450f84a, Dec  6 2022, 15:24:06) [Clang 13.0.0 (clang-1300.0.29.30)]"
  },
  "orig_nbformat": 4,
  "vscode": {
   "interpreter": {
    "hash": "aee8b7b246df8f9039afb4144a1f6fd8d2ca17a180786b69acc140d282b71a49"
   }
  }
 },
 "nbformat": 4,
 "nbformat_minor": 2
}
